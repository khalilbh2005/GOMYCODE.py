{
  "nbformat": 4,
  "nbformat_minor": 0,
  "metadata": {
    "colab": {
      "name": "série n1.ipynb",
      "provenance": [],
      "authorship_tag": "ABX9TyMbqjB7KeceUg8o6lZP8Jls",
      "include_colab_link": true
    },
    "kernelspec": {
      "name": "python3",
      "display_name": "Python 3"
    },
    "language_info": {
      "name": "python"
    }
  },
  "cells": [
    {
      "cell_type": "markdown",
      "metadata": {
        "id": "view-in-github",
        "colab_type": "text"
      },
      "source": [
        "<a href=\"https://colab.research.google.com/github/khalilbh2005/GOMYCODE.py/blob/main/s%C3%A9rie_n1.ipynb\" target=\"_parent\"><img src=\"https://colab.research.google.com/assets/colab-badge.svg\" alt=\"Open In Colab\"/></a>"
      ]
    },
    {
      "cell_type": "markdown",
      "metadata": {
        "id": "NrIXturTE9wj"
      },
      "source": [
        "exercice 1:\n"
      ]
    },
    {
      "cell_type": "code",
      "metadata": {
        "colab": {
          "base_uri": "https://localhost:8080/"
        },
        "id": "VIsAfvRuCU6W",
        "outputId": "0fd297cc-7c40-4498-9cd4-72f31536dbe4"
      },
      "source": [
        "n = int(input(\"n= \"))\n",
        "ch = str(n)\n",
        "nb = len(ch)\n",
        "print(\"votre entier =\",n,\" le nombre de ces chiffres =\",nb)"
      ],
      "execution_count": 1,
      "outputs": [
        {
          "output_type": "stream",
          "name": "stdout",
          "text": [
            "n= 15\n",
            "votre entier = 15  le nombre de ces chiffres = 2\n"
          ]
        }
      ]
    },
    {
      "cell_type": "code",
      "metadata": {
        "id": "eNviD7pKFxZl"
      },
      "source": [
        "exercice 2:"
      ],
      "execution_count": null,
      "outputs": []
    },
    {
      "cell_type": "code",
      "metadata": {
        "colab": {
          "base_uri": "https://localhost:8080/"
        },
        "id": "36Bv--0UFz_9",
        "outputId": "db8a7f67-9990-4fdb-c5f6-8256d8e1eced"
      },
      "source": [
        "a = int(input(\"a= \"))\n",
        "b = int(input(\"b= \"))\n",
        "if a >= b:\n",
        "  print(a-b)\n",
        "else:\n",
        "  print(b-a)"
      ],
      "execution_count": 4,
      "outputs": [
        {
          "output_type": "stream",
          "name": "stdout",
          "text": [
            "a= 8\n",
            "b= 5\n",
            "3\n"
          ]
        }
      ]
    },
    {
      "cell_type": "markdown",
      "metadata": {
        "id": "9qIgPSJGIAvY"
      },
      "source": [
        "exercice 3:"
      ]
    },
    {
      "cell_type": "code",
      "metadata": {
        "colab": {
          "base_uri": "https://localhost:8080/"
        },
        "id": "u2IBRxNGIESh",
        "outputId": "3e930cb2-fee4-401b-979d-d9144bc17e4d"
      },
      "source": [
        "c = input(\"c= \")\n",
        "x= c.upper()\n",
        "if x in ['0','1','2','3','4','5',\"6\",'7','8','9']:\n",
        "  print(\"chiffre\")\n",
        "elif x in ['E','y','A','O','U',\"I\"]:\n",
        "  print(\"voyelle\")\n",
        "elif x in ['A','B','C','D','E','F','G','H','I','J','K','L','M','N','O','P','Q','R','S','T','U','V','W','X','Y','Z']:\n",
        "  print(\"consonne\")\n",
        "else:\n",
        "  print(\"symbole\")"
      ],
      "execution_count": 19,
      "outputs": [
        {
          "output_type": "stream",
          "name": "stdout",
          "text": [
            "c= h\n",
            "consonne\n"
          ]
        }
      ]
    },
    {
      "cell_type": "markdown",
      "metadata": {
        "id": "NrOrs3hLO85a"
      },
      "source": [
        "exercice 4:"
      ]
    },
    {
      "cell_type": "code",
      "metadata": {
        "id": "MA1u66ZUPBEw",
        "outputId": "45b2f9b4-db49-41dc-8d84-d1107b3db261",
        "colab": {
          "base_uri": "https://localhost:8080/"
        }
      },
      "source": [
        "r = int(input(\"reel= \"))\n",
        "o = str(input(\"+,-,*,/\"))\n",
        "a = int(input(\"autre reel= \"))\n",
        "if o == \"+\":\n",
        "  print(r + a)\n",
        "elif o == \"-\":\n",
        "  print(r - a)\n",
        "elif o == \"*\":\n",
        "  print(r * a)\n",
        "elif o == \"/\":\n",
        "  print(r / a)\n",
        "else:\n",
        "  print(\"erreur!!\")"
      ],
      "execution_count": 26,
      "outputs": [
        {
          "output_type": "stream",
          "name": "stdout",
          "text": [
            "reel= 8\n",
            "+,-,*,//\n",
            "autre reel= 2\n",
            "4.0\n"
          ]
        }
      ]
    }
  ]
}