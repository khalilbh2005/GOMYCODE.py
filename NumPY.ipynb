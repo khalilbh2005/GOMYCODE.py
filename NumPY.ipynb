{
  "nbformat": 4,
  "nbformat_minor": 0,
  "metadata": {
    "colab": {
      "name": "NumPY.ipynb",
      "provenance": [],
      "authorship_tag": "ABX9TyPke2g+l4+rlJrIjxDM8U37",
      "include_colab_link": true
    },
    "kernelspec": {
      "name": "python3",
      "display_name": "Python 3"
    },
    "language_info": {
      "name": "python"
    }
  },
  "cells": [
    {
      "cell_type": "markdown",
      "metadata": {
        "id": "view-in-github",
        "colab_type": "text"
      },
      "source": [
        "<a href=\"https://colab.research.google.com/github/khalilbh2005/GOMYCODE.py/blob/main/NumPY.ipynb\" target=\"_parent\"><img src=\"https://colab.research.google.com/assets/colab-badge.svg\" alt=\"Open In Colab\"/></a>"
      ]
    },
    {
      "cell_type": "code",
      "metadata": {
        "colab": {
          "base_uri": "https://localhost:8080/"
        },
        "id": "Z6ieADgXawtv",
        "outputId": "e903b4ef-4dd8-47b5-c10a-7b5a69dbd8a4"
      },
      "source": [
        "import numpy as np\n",
        "arr = np.array([1, 2, 3])\n",
        "list1 = arr.tolist()\n",
        "print(list1)"
      ],
      "execution_count": null,
      "outputs": [
        {
          "output_type": "stream",
          "text": [
            "[1, 2, 3]\n"
          ],
          "name": "stdout"
        }
      ]
    },
    {
      "cell_type": "code",
      "metadata": {
        "colab": {
          "base_uri": "https://localhost:8080/"
        },
        "id": "p3dXzsbVaMg2",
        "outputId": "1ebe531f-e8a2-4a9b-b1d4-4864fa1e2b53"
      },
      "source": [
        "import numpy as np\n",
        "n_array = np.array([[55, 25, 15],\n",
        "\t\t\t\t\t[30, 44, 2],\n",
        "\t\t\t\t\t[11, 45, 77]])\n",
        "trace = np.trace(n_array)\n",
        "print(trace)"
      ],
      "execution_count": null,
      "outputs": [
        {
          "output_type": "stream",
          "text": [
            "176\n"
          ],
          "name": "stdout"
        }
      ]
    },
    {
      "cell_type": "code",
      "metadata": {
        "colab": {
          "base_uri": "https://localhost:8080/"
        },
        "id": "FLnU_XdzcggQ",
        "outputId": "4b925ffc-3b75-4b1b-d91c-f3a8362c37d8"
      },
      "source": [
        "import numpy as np\n",
        "print(\"Original matrix:\\n\")\n",
        "X = np.random.rand(5, 10)\n",
        "print(X)\n",
        "print(\"\\nSubtract the mean of each row of the said matrix:\\n\")\n",
        "Y = X - X.mean(axis=1, keepdims=True)\n",
        "print(Y)"
      ],
      "execution_count": 1,
      "outputs": [
        {
          "output_type": "stream",
          "text": [
            "Original matrix:\n",
            "\n",
            "[[0.55048724 0.74453109 0.82784006 0.05162384 0.69072726 0.43037206\n",
            "  0.19803326 0.82678318 0.08280088 0.62734276]\n",
            " [0.43900059 0.01122495 0.18861634 0.84666419 0.02162827 0.03282393\n",
            "  0.09080171 0.82796018 0.28196056 0.92181483]\n",
            " [0.44005056 0.05776667 0.90123964 0.3252174  0.93490295 0.93181381\n",
            "  0.17020928 0.23459176 0.34729098 0.67509289]\n",
            " [0.24370751 0.39827667 0.01717944 0.95841237 0.12325639 0.55356073\n",
            "  0.28134935 0.98481779 0.58032787 0.38069566]\n",
            " [0.04901715 0.29038951 0.35583148 0.0455907  0.59873159 0.25864095\n",
            "  0.38812344 0.14229103 0.71347832 0.17933872]]\n",
            "\n",
            "Subtract the mean of each row of the said matrix:\n",
            "\n",
            "[[ 0.04743308  0.24147693  0.32478589 -0.45143032  0.18767309 -0.07268211\n",
            "  -0.3050209   0.32372901 -0.42025328  0.12428859]\n",
            " [ 0.07275103 -0.3550246  -0.17763321  0.48041463 -0.34462129 -0.33342562\n",
            "  -0.27544784  0.46171063 -0.084289    0.55556527]\n",
            " [-0.06176704 -0.44405093  0.39942204 -0.17660019  0.43308536  0.42999622\n",
            "  -0.33160831 -0.26722583 -0.15452661  0.17327529]\n",
            " [-0.20845086 -0.05388171 -0.43497894  0.506254   -0.32890199  0.10140235\n",
            "  -0.17080903  0.53265941  0.12816949 -0.07146272]\n",
            " [-0.25312614 -0.01175378  0.05368819 -0.25655259  0.29658831 -0.04350234\n",
            "   0.08598015 -0.15985226  0.41133503 -0.12280456]]\n"
          ],
          "name": "stdout"
        }
      ]
    }
  ]
}