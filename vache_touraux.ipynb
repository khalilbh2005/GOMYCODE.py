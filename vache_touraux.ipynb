{
  "nbformat": 4,
  "nbformat_minor": 0,
  "metadata": {
    "colab": {
      "name": "vache touraux.ipynb",
      "provenance": [],
      "authorship_tag": "ABX9TyO0HLG2zBMZirChGqaDH/cp",
      "include_colab_link": true
    },
    "kernelspec": {
      "name": "python3",
      "display_name": "Python 3"
    },
    "language_info": {
      "name": "python"
    }
  },
  "cells": [
    {
      "cell_type": "markdown",
      "metadata": {
        "id": "view-in-github",
        "colab_type": "text"
      },
      "source": [
        "<a href=\"https://colab.research.google.com/github/khalilbh2005/GOMYCODE.py/blob/main/vache_touraux.ipynb\" target=\"_parent\"><img src=\"https://colab.research.google.com/assets/colab-badge.svg\" alt=\"Open In Colab\"/></a>"
      ]
    },
    {
      "cell_type": "code",
      "metadata": {
        "colab": {
          "base_uri": "https://localhost:8080/"
        },
        "id": "kly-UtiTJGRZ",
        "outputId": "eb41476e-dbc7-4c52-c378-f7420467b1ec"
      },
      "source": [
        "from random import *\n",
        "nalea = randint(100,999)\n",
        "score = 5\n",
        "guess = int(input(\"entrer votre proposition : \"))\n",
        "while not(100<=guess<=999):\n",
        "    guess = int(input(\"entrer votre proposition : \"))\n",
        "S = nalea // 100\n",
        "D = (nalea % 100) // 10\n",
        "U = nalea % 10\n",
        "S1 = guess // 100\n",
        "D1 = (guess % 100) // 10\n",
        "U1 = guess % 10\n",
        "vache = 0\n",
        "touraux = 0\n",
        "if S == S1:\n",
        "  vache += 1\n",
        "if S == D1:\n",
        "  touraux += 1\n",
        "if S == U1:\n",
        "  touraux += 1\n",
        "if D == D1:\n",
        "  vache += 1\n",
        "if D == S1:\n",
        "  touraux += 1\n",
        "if D == U1:\n",
        "  touraux += 1\n",
        "if U == U1:\n",
        "  vache += 1\n",
        "if U == S1:\n",
        "  touraux += 1\n",
        "if U == D1:\n",
        "  touraux += 1\n",
        "score -= 1\n",
        "print(\"reste = \",score)\n",
        "print(f\"vous avez {vache} vache et {touraux} touraux \")\n",
        "if nalea == guess:\n",
        "  print(\"vous avez gangiez\")\n",
        "else:\n",
        "  while not(score == 0) and not(nalea ==guess):\n",
        "    guess = int(input(\"entrer votre proposition : \"))\n",
        "    while not(100<=guess<=999):\n",
        "      guess = int(input(\"entrer votre proposition : \"))\n",
        "    S = nalea // 100\n",
        "    D = (nalea % 100) // 10\n",
        "    U = nalea % 10\n",
        "    S1 = guess // 100\n",
        "    D1 = (guess % 100) // 10\n",
        "    U1 = guess % 10\n",
        "    vache = 0\n",
        "    touraux = 0\n",
        "    if S == S1:\n",
        "      vache += 1\n",
        "    if S == D1:\n",
        "      touraux += 1\n",
        "    if S == U1:\n",
        "      touraux += 1\n",
        "    if D == D1:\n",
        "      vache += 1\n",
        "    if D == S1:\n",
        "      touraux += 1\n",
        "    if D == U1:\n",
        "      touraux += 1\n",
        "    if U == U1:\n",
        "      vache += 1\n",
        "    if U == S1:\n",
        "      touraux += 1\n",
        "    if U == D1:\n",
        "      touraux += 1\n",
        "    score  -= 1\n",
        "    print(f\"vous avez {vache} vache et {touraux} touraux \")\n",
        "    print(\"reste = \",score)\n",
        "if nalea == guess:\n",
        "  print(\"you win\")\n",
        "else:\n",
        "  print(\"you lose le nombre est =\",nalea)\n"
      ],
      "execution_count": 35,
      "outputs": [
        {
          "output_type": "stream",
          "name": "stdout",
          "text": [
            "795\n",
            "entrer votre proposition : 456\n",
            "reste =  4\n",
            "vous avez 0 vache et 1 touraux \n",
            "entrer votre proposition : 524\n",
            "vous avez 0 vache et 1 touraux \n",
            "reste =  3\n",
            "entrer votre proposition : 44\n",
            "entrer votre proposition : 44\n",
            "entrer votre proposition : 258\n",
            "vous avez 0 vache et 1 touraux \n",
            "reste =  2\n",
            "entrer votre proposition : 632\n",
            "vous avez 0 vache et 0 touraux \n",
            "reste =  1\n",
            "entrer votre proposition : 752\n",
            "vous avez 1 vache et 1 touraux \n",
            "reste =  0\n",
            "you lose le nombre est = 795\n"
          ]
        }
      ]
    }
  ]
}