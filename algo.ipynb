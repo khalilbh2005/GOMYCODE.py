{
  "nbformat": 4,
  "nbformat_minor": 0,
  "metadata": {
    "colab": {
      "name": "algo.ipynb",
      "provenance": [],
      "authorship_tag": "ABX9TyPIqhBrYYgYz//IgOKad0tD",
      "include_colab_link": true
    },
    "kernelspec": {
      "name": "python3",
      "display_name": "Python 3"
    },
    "language_info": {
      "name": "python"
    }
  },
  "cells": [
    {
      "cell_type": "markdown",
      "metadata": {
        "id": "view-in-github",
        "colab_type": "text"
      },
      "source": [
        "<a href=\"https://colab.research.google.com/github/khalilbh2005/GOMYCODE.py/blob/main/algo.ipynb\" target=\"_parent\"><img src=\"https://colab.research.google.com/assets/colab-badge.svg\" alt=\"Open In Colab\"/></a>"
      ]
    },
    {
      "cell_type": "markdown",
      "metadata": {
        "id": "-lDlFcBjvAPX"
      },
      "source": [
        "Q1"
      ]
    },
    {
      "cell_type": "code",
      "metadata": {
        "colab": {
          "base_uri": "https://localhost:8080/"
        },
        "id": "bKVvQjrKujAz",
        "outputId": "07ff1776-cf47-436e-ca3e-ac71e88a5d1d"
      },
      "source": [
        "def binary_search(arr, low, high, x):\n",
        "\tif high >= low:\n",
        "\n",
        "\t\tmid = (high + low) // 2\n",
        "\t\tif arr[mid] == x:\n",
        "\t\t\treturn mid\n",
        "\t\telif arr[mid] > x:\n",
        "\t\t\treturn binary_search(arr, low, mid - 1, x)\n",
        "\t\telse:\n",
        "\t\t\treturn binary_search(arr, mid + 1, high, x)\n",
        "\n",
        "\telse:\n",
        "\t\treturn -1\n",
        "\n",
        "arr = [1,2,3,5,8]\n",
        "x = 6\n",
        "\n",
        "result = binary_search(arr, 0, len(arr)-1, x)\n",
        "\n",
        "if result != -1:\n",
        "\tprint(True)\n",
        "else:\n",
        "\tprint(False)\n"
      ],
      "execution_count": null,
      "outputs": [
        {
          "output_type": "stream",
          "text": [
            "True\n"
          ],
          "name": "stdout"
        }
      ]
    },
    {
      "cell_type": "markdown",
      "metadata": {
        "id": "z7ciVgbbudjP"
      },
      "source": [
        "Q2\n",
        "\n"
      ]
    },
    {
      "cell_type": "code",
      "metadata": {
        "colab": {
          "base_uri": "https://localhost:8080/"
        },
        "id": "BgJw33vsuJE-",
        "outputId": "7a05c155-9b97-4e5e-ea87-8c74aef4911d"
      },
      "source": [
        "def power(a,b):\n",
        "\tif b==0:\n",
        "\t\treturn 1\n",
        "\telif a==0:\n",
        "\t\treturn 0\n",
        "\telif b==1:\n",
        "\t\treturn a\n",
        "\telse:\n",
        "\t\treturn a*power(a,b-1)\n",
        "\n",
        "print(power(3,4))"
      ],
      "execution_count": null,
      "outputs": [
        {
          "output_type": "stream",
          "text": [
            "81\n"
          ],
          "name": "stdout"
        }
      ]
    },
    {
      "cell_type": "markdown",
      "metadata": {
        "id": "TSeqmkLDvEDD"
      },
      "source": [
        "Q3"
      ]
    },
    {
      "cell_type": "code",
      "metadata": {
        "colab": {
          "base_uri": "https://localhost:8080/"
        },
        "id": "ynW6QVJMvFGK",
        "outputId": "65f15c6a-afc8-48bd-af93-61951cd04217"
      },
      "source": [
        "def bubbleSort(nlist):\n",
        "    for passnum in range(len(nlist)-1,0,-1):\n",
        "        for i in range(passnum):\n",
        "            if nlist[i]>nlist[i+1]:\n",
        "                temp = nlist[i]\n",
        "                nlist[i] = nlist[i+1]\n",
        "                nlist[i+1] = temp\n",
        "\n",
        "nlist = [29,13,22,37,52,49,46,71,56]\n",
        "bubbleSort(nlist)\n",
        "print(nlist)"
      ],
      "execution_count": null,
      "outputs": [
        {
          "output_type": "stream",
          "text": [
            "[13, 22, 29, 37, 46, 49, 52, 56, 71]\n"
          ],
          "name": "stdout"
        }
      ]
    },
    {
      "cell_type": "markdown",
      "metadata": {
        "id": "ZhhSTTDovnJZ"
      },
      "source": [
        "Q4"
      ]
    },
    {
      "cell_type": "code",
      "metadata": {
        "colab": {
          "base_uri": "https://localhost:8080/"
        },
        "id": "yKbJyrAjvqww",
        "outputId": "78439273-cb86-4cb2-a642-5ac3fa85f391"
      },
      "source": [
        "def mergeSort(nlist):\n",
        "    \n",
        "    if len(nlist)>1:\n",
        "        mid = len(nlist)//2\n",
        "        lefthalf = nlist[:mid]\n",
        "        righthalf = nlist[mid:]\n",
        "\n",
        "        mergeSort(lefthalf)\n",
        "        mergeSort(righthalf)\n",
        "        i=j=k=0       \n",
        "        while i < len(lefthalf) and j < len(righthalf):\n",
        "            if lefthalf[i] < righthalf[j]:\n",
        "                nlist[k]=lefthalf[i]\n",
        "                i=i+1\n",
        "            else:\n",
        "                nlist[k]=righthalf[j]\n",
        "                j=j+1\n",
        "            k=k+1\n",
        "\n",
        "        while i < len(lefthalf):\n",
        "            nlist[k]=lefthalf[i]\n",
        "            i=i+1\n",
        "            k=k+1\n",
        "\n",
        "        while j < len(righthalf):\n",
        "            nlist[k]=righthalf[j]\n",
        "            j=j+1\n",
        "            k=k+1\n",
        "    \n",
        "nlist = [14,46,43,27,57,41,45,21,70]\n",
        "mergeSort(nlist)\n",
        "print(nlist)"
      ],
      "execution_count": 1,
      "outputs": [
        {
          "output_type": "stream",
          "text": [
            "[14, 21, 27, 41, 43, 45, 46, 57, 70]\n"
          ],
          "name": "stdout"
        }
      ]
    },
    {
      "cell_type": "markdown",
      "metadata": {
        "id": "ujTs2GlwwqQo"
      },
      "source": [
        "Q5"
      ]
    },
    {
      "cell_type": "code",
      "metadata": {
        "colab": {
          "base_uri": "https://localhost:8080/"
        },
        "id": "ikGYAayQwkGn",
        "outputId": "38829ebe-5067-4c87-f19f-99a0dd459c54"
      },
      "source": [
        "def quickSort(data_list):\n",
        "   quickSortHlp(data_list,0,len(data_list)-1)\n",
        "\n",
        "def quickSortHlp(data_list,first,last):\n",
        "   if first < last:\n",
        "\n",
        "       splitpoint = partition(data_list,first,last)\n",
        "\n",
        "       quickSortHlp(data_list,first,splitpoint-1)\n",
        "       quickSortHlp(data_list,splitpoint+1,last)\n",
        "\n",
        "\n",
        "def partition(data_list,first,last):\n",
        "   pivotvalue = data_list[first]\n",
        "\n",
        "   leftmark = first+1\n",
        "   rightmark = last\n",
        "\n",
        "   done = False\n",
        "   while not done:\n",
        "\n",
        "       while leftmark <= rightmark and data_list[leftmark] <= pivotvalue:\n",
        "           leftmark = leftmark + 1\n",
        "\n",
        "       while data_list[rightmark] >= pivotvalue and rightmark >= leftmark:\n",
        "           rightmark = rightmark -1\n",
        "\n",
        "       if rightmark < leftmark:\n",
        "           done = True\n",
        "       else:\n",
        "           temp = data_list[leftmark]\n",
        "           data_list[leftmark] = data_list[rightmark]\n",
        "           data_list[rightmark] = temp\n",
        "\n",
        "   temp = data_list[first]\n",
        "   data_list[first] = data_list[rightmark]\n",
        "   data_list[rightmark] = temp\n",
        "\n",
        "\n",
        "   return rightmark\n",
        "\n",
        "data_list = [29,13,22,37,52,49,46,71,56]\n",
        "quickSort(data_list)\n",
        "print(data_list)"
      ],
      "execution_count": null,
      "outputs": [
        {
          "output_type": "stream",
          "text": [
            "[13, 22, 29, 37, 46, 49, 52, 56, 71]\n"
          ],
          "name": "stdout"
        }
      ]
    }
  ]
}