{
  "nbformat": 4,
  "nbformat_minor": 0,
  "metadata": {
    "colab": {
      "name": "Python Classes/Objects.ipynb",
      "provenance": [],
      "authorship_tag": "ABX9TyO3bZ1aiosRgjJN+pfEteDt",
      "include_colab_link": true
    },
    "kernelspec": {
      "name": "python3",
      "display_name": "Python 3"
    },
    "language_info": {
      "name": "python"
    }
  },
  "cells": [
    {
      "cell_type": "markdown",
      "metadata": {
        "id": "view-in-github",
        "colab_type": "text"
      },
      "source": [
        "<a href=\"https://colab.research.google.com/github/khalilbh2005/GOMYCODE.py/blob/main/Python_Classes_Objects.ipynb\" target=\"_parent\"><img src=\"https://colab.research.google.com/assets/colab-badge.svg\" alt=\"Open In Colab\"/></a>"
      ]
    },
    {
      "cell_type": "code",
      "metadata": {
        "colab": {
          "base_uri": "https://localhost:8080/"
        },
        "id": "u8stcpjzpXI4",
        "outputId": "79c7a6e5-b418-4b41-b9d3-027f1a872d12"
      },
      "source": [
        "class Point3D:\n",
        "  def __init__(self, x, y, z):\n",
        "    self.x = x\n",
        "    self.y = y\n",
        "    self.z = z\n",
        "my_point = Point3D(1,2,3)\n",
        "print(my_point.x)\n",
        "print(my_point.y)\n",
        "print(my_point.z)"
      ],
      "execution_count": 29,
      "outputs": [
        {
          "output_type": "stream",
          "text": [
            "1\n",
            "2\n",
            "3\n"
          ],
          "name": "stdout"
        }
      ]
    },
    {
      "cell_type": "code",
      "metadata": {
        "colab": {
          "base_uri": "https://localhost:8080/"
        },
        "id": "F3cvfxzosUoC",
        "outputId": "285e7b8d-9a52-431f-9dab-b6f3156be978"
      },
      "source": [
        "class Rectangle:\n",
        "  def __init__(self, length, width):\n",
        "    self.length=length\n",
        "    self.width=width\n",
        "  def area(self):\n",
        "      return self.length * self.width\n",
        "  def perimeter(self):\n",
        "      return 2*(self.length + self.width)\n",
        "inter = Rectangle(4 , 3)\n",
        "print(inter.area())\n",
        "print(inter.perimeter())"
      ],
      "execution_count": 8,
      "outputs": [
        {
          "output_type": "stream",
          "text": [
            "12\n",
            "14\n"
          ],
          "name": "stdout"
        }
      ]
    },
    {
      "cell_type": "code",
      "metadata": {
        "colab": {
          "base_uri": "https://localhost:8080/"
        },
        "id": "jolHsbpgvn0w",
        "outputId": "0e3f959d-0045-453f-aa31-1a1a8aedffc3"
      },
      "source": [
        "class Bank_Account:\n",
        "\tdef __init__(self):\n",
        "\t\tself.balance=0\n",
        "\t\tprint(\"Hello!!! Welcome to the Deposit & Withdrawal Machine\")\n",
        "\n",
        "\tdef deposit(self):\n",
        "\t\tamount=float(input(\"Enter amount to be Deposited: \"))\n",
        "\t\tself.balance += amount\n",
        "\t\tprint(\"\\n Amount Deposited:\",amount)\n",
        "\n",
        "\tdef withdraw(self):\n",
        "\t\tamount = float(input(\"Enter amount to be Withdrawn: \"))\n",
        "\t\tif self.balance>=amount:\n",
        "\t\t\tself.balance-=amount\n",
        "\t\t\tprint(\"7 You Withdrew:\", amount)\n",
        "\t\telse:\n",
        "\t\t\tprint(\" Insufficient balance \")\n",
        "\n",
        "\tdef display(self):\n",
        "\t\tprint(\" Net Available Balance=\",self.balance)\n",
        "\n",
        "\n",
        "s = Bank_Account()\n",
        "\n",
        "s.deposit()\n",
        "s.withdraw()\n",
        "s.display()"
      ],
      "execution_count": 32,
      "outputs": [
        {
          "output_type": "stream",
          "text": [
            "Hello!!! Welcome to the Deposit & Withdrawal Machine\n",
            "Enter amount to be Deposited: 80\n",
            "\n",
            " Amount Deposited: 80.0\n",
            "Enter amount to be Withdrawn: 50\n",
            "7 You Withdrew: 50.0\n",
            " Net Available Balance= 30.0\n"
          ],
          "name": "stdout"
        }
      ]
    },
    {
      "cell_type": "code",
      "metadata": {
        "colab": {
          "base_uri": "https://localhost:8080/"
        },
        "id": "3t0D8hQQvpW3",
        "outputId": "3c6609db-2e4e-4b1e-aee7-d707416f4178"
      },
      "source": [
        "class Circle():\n",
        "    def __init__(self, r):\n",
        "        self.radius = r\n",
        "\n",
        "    def area(self):\n",
        "        return self.radius**2*3.14\n",
        "    \n",
        "    def perimeter(self):\n",
        "        return 2*self.radius*3.14\n",
        "\n",
        "NewCircle = Circle(8)\n",
        "print(NewCircle.area())\n",
        "print(NewCircle.perimeter())"
      ],
      "execution_count": 22,
      "outputs": [
        {
          "output_type": "stream",
          "text": [
            "200.96\n",
            "50.24\n"
          ],
          "name": "stdout"
        }
      ]
    }
  ]
}