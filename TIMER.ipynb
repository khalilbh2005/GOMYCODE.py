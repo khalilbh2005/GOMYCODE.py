{
  "nbformat": 4,
  "nbformat_minor": 0,
  "metadata": {
    "colab": {
      "name": "TIMER.ipynb",
      "provenance": [],
      "authorship_tag": "ABX9TyOKN5H5ItSwgzKv/UanZ+jM",
      "include_colab_link": true
    },
    "kernelspec": {
      "name": "python3",
      "display_name": "Python 3"
    },
    "language_info": {
      "name": "python"
    }
  },
  "cells": [
    {
      "cell_type": "markdown",
      "metadata": {
        "id": "view-in-github",
        "colab_type": "text"
      },
      "source": [
        "<a href=\"https://colab.research.google.com/github/khalilbh2005/GOMYCODE.py/blob/main/TIMER.ipynb\" target=\"_parent\"><img src=\"https://colab.research.google.com/assets/colab-badge.svg\" alt=\"Open In Colab\"/></a>"
      ]
    },
    {
      "cell_type": "code",
      "metadata": {
        "colab": {
          "base_uri": "https://localhost:8080/"
        },
        "id": "xpBRt_GCIDm9",
        "outputId": "17528d60-ad0f-4cab-ee91-115cd97301ec"
      },
      "source": [
        "import time\n",
        "t = input(\"Enter the time in seconds: \")\n",
        "def countdown(t):\n",
        "    while t:\n",
        "        mins, secs = divmod(t, 60)\n",
        "        timer = '{:02d}:{:02d}'.format(mins, secs)\n",
        "        print(timer, end=\"\\r\")\n",
        "        time.sleep(1)\n",
        "        t -= 1  \n",
        "    print('Fire in the hole')\n",
        "countdown(int(t))"
      ],
      "execution_count": 7,
      "outputs": [
        {
          "output_type": "stream",
          "text": [
            "Enter the time in seconds: 4\n",
            "Fire in the hole\n"
          ],
          "name": "stdout"
        }
      ]
    }
  ]
}