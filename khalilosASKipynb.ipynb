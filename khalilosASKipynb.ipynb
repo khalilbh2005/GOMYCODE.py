{
  "nbformat": 4,
  "nbformat_minor": 0,
  "metadata": {
    "colab": {
      "name": "khalilosASKipynb",
      "provenance": [],
      "authorship_tag": "ABX9TyPMKT7NB/4uJMfytT9IQdsU",
      "include_colab_link": true
    },
    "kernelspec": {
      "name": "python3",
      "display_name": "Python 3"
    },
    "language_info": {
      "name": "python"
    }
  },
  "cells": [
    {
      "cell_type": "markdown",
      "metadata": {
        "id": "view-in-github",
        "colab_type": "text"
      },
      "source": [
        "<a href=\"https://colab.research.google.com/github/khalilbh2005/GOMYCODE.py/blob/main/khalilosASKipynb.ipynb\" target=\"_parent\"><img src=\"https://colab.research.google.com/assets/colab-badge.svg\" alt=\"Open In Colab\"/></a>"
      ]
    },
    {
      "cell_type": "code",
      "metadata": {
        "colab": {
          "base_uri": "https://localhost:8080/"
        },
        "id": "euvD1lJzFwQW",
        "outputId": "faa4c54a-7a53-4579-889c-794de16eb763"
      },
      "source": [
        "print('Welcome to khalilosASK')\n",
        "name =input('your name is : ' )\n",
        "answer=input('Are you ready to play? (yes/no) :')\n",
        "score=0\n",
        "total_questions=3\n",
        " \n",
        "if answer.lower()=='yes':\n",
        "    answer=input('Question 1: What is your Favourite programming language?')\n",
        "    if answer.lower()=='python':\n",
        "        score += 1\n",
        "    else:\n",
        "        print('Wrong Answer :(')\n",
        " \n",
        " \n",
        "    answer=input('Question 2: the correct syntax to output \"Hello World\" in Python is print(\"Hello World\")  ? (yes/no) ')\n",
        "    if answer.lower()=='yes':\n",
        "        score += 1\n",
        "        print('NICEEE')\n",
        "    else:\n",
        "        print(\"stupid ʘ‿ʘ\")\n",
        "\n",
        "    answer=input('Question 3: What is the name of your favourite website for learning Python?')\n",
        "    if answer.lower()=='gomycode':\n",
        "        score += 1\n",
        "        print('NICEEEE')\n",
        "    else:\n",
        "        print('WTFFF.........!')\n",
        "\n",
        "print('Thank you' ,name, 'for Playing , you attempted',score,\"khalilosASK correctly!\")\n",
        "mark=(score/total_questions)*100\n",
        "print('Marks obtained:',mark)\n",
        "print('(๑•́ ₃ •̀๑)')"
      ],
      "execution_count": 16,
      "outputs": [
        {
          "output_type": "stream",
          "text": [
            "Welcome to khalilosASK\n",
            "your name is : khalil\n",
            "Are you ready to play? (yes/no) :yes\n",
            "Question 1: What is your Favourite programming language?python\n",
            "Question 2: the correct syntax to output \"Hello World\" in Python is print(\"Hello World\")  ? (yes/no) yes\n",
            "NICEEE\n",
            "Question 3: What is the name of your favourite website for learning Python?gomycode\n",
            "NICEEEE\n",
            "Thank you khalil for Playing , you attempted 3 khalilosASK correctly!\n",
            "Marks obtained: 100.0\n",
            "(๑•́ ₃ •̀๑)\n"
          ],
          "name": "stdout"
        }
      ]
    }
  ]
}