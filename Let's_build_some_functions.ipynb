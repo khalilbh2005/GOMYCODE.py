{
  "nbformat": 4,
  "nbformat_minor": 0,
  "metadata": {
    "colab": {
      "name": "Let's build some functions.ipynb",
      "provenance": [],
      "authorship_tag": "ABX9TyM6hY24SQd75ulG4brsdopt",
      "include_colab_link": true
    },
    "kernelspec": {
      "name": "python3",
      "display_name": "Python 3"
    },
    "language_info": {
      "name": "python"
    }
  },
  "cells": [
    {
      "cell_type": "markdown",
      "metadata": {
        "id": "view-in-github",
        "colab_type": "text"
      },
      "source": [
        "<a href=\"https://colab.research.google.com/github/khalilbh2005/GOMYCODE.py/blob/main/Let's_build_some_functions.ipynb\" target=\"_parent\"><img src=\"https://colab.research.google.com/assets/colab-badge.svg\" alt=\"Open In Colab\"/></a>"
      ]
    },
    {
      "cell_type": "markdown",
      "metadata": {
        "id": "2SlTZcBRNwkb"
      },
      "source": [
        "Question 1"
      ]
    },
    {
      "cell_type": "code",
      "metadata": {
        "id": "HG58wqz1NtOC"
      },
      "source": [
        "def maximum(a, b, c):\n",
        "\tif (a >= b) and (a >= c):\n",
        "\t\tmax = a\n",
        "\telif (b >= a) and (b >= c):\n",
        "\t\tmax = b\n",
        "\telse:\n",
        "\t\tmax = c\n",
        "\treturn max7\n",
        "a = int(input())\n",
        "b = int(input())\n",
        "c = int(input())\n",
        "print(maximum(a, b, c))"
      ],
      "execution_count": null,
      "outputs": []
    },
    {
      "cell_type": "markdown",
      "metadata": {
        "id": "Wkevcynh8T7-"
      },
      "source": [
        "Question 2"
      ]
    },
    {
      "cell_type": "code",
      "metadata": {
        "colab": {
          "base_uri": "https://localhost:8080/"
        },
        "id": "AI6p-4B98Wrk",
        "outputId": "58b0429f-20a8-4c16-8021-25a87a5cc8b2"
      },
      "source": [
        "def sum(a,b):\n",
        "  return a+b , a-b\n",
        "num = sum(40,10)\n",
        "print(num)"
      ],
      "execution_count": null,
      "outputs": [
        {
          "output_type": "stream",
          "text": [
            "(50, 30)\n"
          ],
          "name": "stdout"
        }
      ]
    },
    {
      "cell_type": "markdown",
      "metadata": {
        "id": "ryF_3Ulcbr1d"
      },
      "source": [
        "Question 3"
      ]
    },
    {
      "cell_type": "code",
      "metadata": {
        "colab": {
          "base_uri": "https://localhost:8080/"
        },
        "id": "ug8lTkVIbveR",
        "outputId": "4f98c8c1-4f77-4aaa-f441-aa2923df333a"
      },
      "source": [
        "def multiplyList(myList) :\n",
        "\tresult = 1\n",
        "\tfor x in myList:\n",
        "\t\tresult = result * x\n",
        "\treturn result\n",
        "list1 = [1, 2, 3]\n",
        "list2 = [3, 2, 4]\n",
        "print(multiplyList(list1))\n",
        "print(multiplyList(list2))\n"
      ],
      "execution_count": null,
      "outputs": [
        {
          "output_type": "stream",
          "text": [
            "6\n",
            "24\n"
          ],
          "name": "stdout"
        }
      ]
    },
    {
      "cell_type": "markdown",
      "metadata": {
        "id": "vJkzmRsMdKRc"
      },
      "source": [
        "Question 4"
      ]
    },
    {
      "cell_type": "code",
      "metadata": {
        "colab": {
          "base_uri": "https://localhost:8080/"
        },
        "id": "epdo49EMvABx",
        "outputId": "a9dd91b7-9abd-41ac-d1ab-adacbc4217eb"
      },
      "source": [
        "items = \"green-red-yellow-black-white\"\n",
        "x = items.split(\"-\")\n",
        "x.sort()\n",
        "print(x)\n"
      ],
      "execution_count": 10,
      "outputs": [
        {
          "output_type": "stream",
          "text": [
            "['black', 'green', 'red', 'white', 'yellow']\n"
          ],
          "name": "stdout"
        }
      ]
    }
  ]
}