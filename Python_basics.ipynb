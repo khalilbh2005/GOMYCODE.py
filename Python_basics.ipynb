{
  "nbformat": 4,
  "nbformat_minor": 0,
  "metadata": {
    "colab": {
      "name": "Python basics.ipynb",
      "provenance": [],
      "authorship_tag": "ABX9TyMUUnZzNN5hiK/Os/4NQC6V",
      "include_colab_link": true
    },
    "kernelspec": {
      "name": "python3",
      "display_name": "Python 3"
    },
    "language_info": {
      "name": "python"
    }
  },
  "cells": [
    {
      "cell_type": "markdown",
      "metadata": {
        "id": "view-in-github",
        "colab_type": "text"
      },
      "source": [
        "<a href=\"https://colab.research.google.com/github/khalilbh2005/GOMYCODE.py/blob/main/Python_basics.ipynb\" target=\"_parent\"><img src=\"https://colab.research.google.com/assets/colab-badge.svg\" alt=\"Open In Colab\"/></a>"
      ]
    },
    {
      "cell_type": "markdown",
      "metadata": {
        "id": "rIS7tJBZhTnF"
      },
      "source": [
        "Question 1\n"
      ]
    },
    {
      "cell_type": "code",
      "metadata": {
        "id": "pIAUzsZ_hajH",
        "colab": {
          "base_uri": "https://localhost:8080/"
        },
        "outputId": "c3ecc7bd-9692-4539-a2ca-40f464b30d89"
      },
      "source": [
        "first_name = input(\"first name: \")\n",
        "last_name = input(\"last name: \")\n",
        "print (str(last_name) + str(\" \" + first_name))"
      ],
      "execution_count": null,
      "outputs": [
        {
          "output_type": "stream",
          "text": [
            "first name: khalil\n",
            "last name: ben hamza\n",
            "ben hamza khalil\n"
          ],
          "name": "stdout"
        }
      ]
    },
    {
      "cell_type": "markdown",
      "metadata": {
        "id": "qlAjmd_JjI-l"
      },
      "source": [
        "Question 2\n"
      ]
    },
    {
      "cell_type": "code",
      "metadata": {
        "id": "rR26q5ZAjM1f",
        "colab": {
          "base_uri": "https://localhost:8080/"
        },
        "outputId": "b4f37589-233a-43e7-99c0-cad90a483186"
      },
      "source": [
        "N=int(input(\"entrer un entier:\"))\n",
        "Na=N+(N*10)\n",
        "Nb=Na+(N*100)\n",
        "X=N+Na+Nb\n",
        "print (N,\"+\", Na, \"+\", Nb, \"=\", X)"
      ],
      "execution_count": null,
      "outputs": [
        {
          "output_type": "stream",
          "text": [
            "entrer un entier:5\n",
            "5 + 55 + 555 = 615\n"
          ],
          "name": "stdout"
        }
      ]
    },
    {
      "cell_type": "markdown",
      "metadata": {
        "id": "deFCIPUKk03a"
      },
      "source": [
        "Question 3\n"
      ]
    },
    {
      "cell_type": "code",
      "metadata": {
        "id": "TK-J9bsllIrQ",
        "colab": {
          "base_uri": "https://localhost:8080/"
        },
        "outputId": "6c912b7b-86f9-488d-8023-b6d0ad6f14e9"
      },
      "source": [
        "N=int(input(\"entrer un entier:\"))\n",
        "if N%2==0:\n",
        "  print(N,\"est pair\") \n",
        "else :\n",
        "  print(N,\"est impair\")\n"
      ],
      "execution_count": null,
      "outputs": [
        {
          "output_type": "stream",
          "text": [
            "entrer un entier:7\n",
            "7 est impair\n"
          ],
          "name": "stdout"
        }
      ]
    },
    {
      "cell_type": "markdown",
      "metadata": {
        "id": "Z_lBKtP7DS2J"
      },
      "source": [
        "Question 4\n"
      ]
    },
    {
      "cell_type": "code",
      "metadata": {
        "id": "0C-iTbMMDV75"
      },
      "source": [
        "for i in range(2000, 3201):\n",
        " if i % 7==0 and i % 5 !=0:\n",
        "   print(i)"
      ],
      "execution_count": null,
      "outputs": []
    },
    {
      "cell_type": "markdown",
      "metadata": {
        "id": "71E_Egl24Put"
      },
      "source": [
        "Question 5"
      ]
    },
    {
      "cell_type": "code",
      "metadata": {
        "colab": {
          "base_uri": "https://localhost:8080/"
        },
        "id": "dW4_3kCS4SHu",
        "outputId": "09665be5-bd8b-4405-95f7-e0229254c8db"
      },
      "source": [
        "num = int(input(\"\"))\n",
        "x=1\n",
        "if num==0:\n",
        "  print(\"0!=\",x)\n",
        "else:\n",
        "  for i in range (1,num+1):\n",
        "    x= x*i\n",
        "    print(num,\"!=\",x)"
      ],
      "execution_count": 47,
      "outputs": [
        {
          "output_type": "stream",
          "text": [
            "5\n",
            "5 != 1\n",
            "5 != 2\n",
            "5 != 6\n",
            "5 != 24\n",
            "5 != 120\n"
          ],
          "name": "stdout"
        }
      ]
    },
    {
      "cell_type": "markdown",
      "metadata": {
        "id": "8VFVxQTw5tQP"
      },
      "source": [
        "Question 6"
      ]
    },
    {
      "cell_type": "code",
      "metadata": {
        "colab": {
          "base_uri": "https://localhost:8080/"
        },
        "id": "9p8HsFrE5vfu",
        "outputId": "6b1a8224-bdf4-4745-cd89-85465edf7835"
      },
      "source": [
        "ch = str(input())\n",
        "for i in range (len(ch)):\n",
        "  if (i%2 != 0):\n",
        "    print(i)\n",
        "  \n"
      ],
      "execution_count": 51,
      "outputs": [
        {
          "output_type": "stream",
          "text": [
            "khalil\n",
            "1\n",
            "3\n",
            "5\n"
          ],
          "name": "stdout"
        }
      ]
    },
    {
      "cell_type": "markdown",
      "metadata": {
        "id": "Eod801W4FbZk"
      },
      "source": [
        "Question 7"
      ]
    },
    {
      "cell_type": "code",
      "metadata": {
        "id": "-Ox8YkLeFd6D",
        "colab": {
          "base_uri": "https://localhost:8080/"
        },
        "outputId": "936380fc-3cb1-455a-90e9-dc78b4da3aeb"
      },
      "source": [
        "price = int(input())\n",
        "if price >= 500:\n",
        "  print(price / 2 )\n",
        "elif price == 200 or price <= 500:\n",
        "   print(price * 30 / 100)\n",
        "else:\n",
        " print(price * 10 / 100)"
      ],
      "execution_count": 30,
      "outputs": [
        {
          "output_type": "stream",
          "text": [
            "20\n",
            "6.0\n"
          ],
          "name": "stdout"
        }
      ]
    }
  ]
}